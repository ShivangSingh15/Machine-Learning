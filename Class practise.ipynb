{
 "cells": [
  {
   "cell_type": "markdown",
   "id": "9efa14ac",
   "metadata": {},
   "source": [
    "s1 = { '1', '2', '3'} to s1 = {1, 2, 3}"
   ]
  },
  {
   "cell_type": "code",
   "execution_count": null,
   "id": "993c6de6",
   "metadata": {},
   "outputs": [],
   "source": []
  },
  {
   "cell_type": "code",
   "execution_count": 1,
   "id": "a3902011",
   "metadata": {},
   "outputs": [
    {
     "name": "stdout",
     "output_type": "stream",
     "text": [
      "<enumerate object at 0x0000029077C97C80>\n",
      "[(0, 'sworna'), (1, 'vidhya'), (2, 'mahadevan')]\n"
     ]
    }
   ],
   "source": [
    "listelm = ['sworna','vidhya','mahadevan']\n",
    "enm = enumerate(listelm)\n",
    "print(enm)\n",
    "print(list(enm))"
   ]
  },
  {
   "cell_type": "code",
   "execution_count": 2,
   "id": "7221f56e",
   "metadata": {},
   "outputs": [
    {
     "name": "stdout",
     "output_type": "stream",
     "text": [
      "<enumerate object at 0x0000029077D1F3C0>\n",
      "[(8, 'sworna'), (9, 'vidhya'), (10, 'mahadevan')]\n"
     ]
    }
   ],
   "source": [
    "listelm = ['sworna','vidhya','mahadevan']\n",
    "enm = enumerate(listelm, 8)\n",
    "print(enm)\n",
    "print(list(enm))"
   ]
  },
  {
   "cell_type": "code",
   "execution_count": 3,
   "id": "38d1833d",
   "metadata": {},
   "outputs": [
    {
     "name": "stdout",
     "output_type": "stream",
     "text": [
      "WELCOME YOU ALL TO TA SESSION ON 9TH 2022\n"
     ]
    }
   ],
   "source": [
    "my_str = \"Welcome you all to ta session on 9th 2022\"\n",
    "#''.join(list(map(lambda x:x.upper(),my_str)))\n",
    "print(my_str.upper())"
   ]
  },
  {
   "cell_type": "code",
   "execution_count": 4,
   "id": "379915da",
   "metadata": {},
   "outputs": [
    {
     "name": "stdout",
     "output_type": "stream",
     "text": [
      "WELCOME YOU ALL TO TA SESSION ON 9TH 2022\n"
     ]
    }
   ],
   "source": [
    "def u_case(str):\n",
    "    return str.upper()\n",
    "print(''.join(list((map(u_case,my_str)))))"
   ]
  },
  {
   "cell_type": "markdown",
   "id": "a1bb2dee",
   "metadata": {},
   "source": []
  },
  {
   "cell_type": "code",
   "execution_count": 5,
   "id": "143b296a",
   "metadata": {},
   "outputs": [
    {
     "name": "stdout",
     "output_type": "stream",
     "text": [
      "Wlcm y ll t t sssn n 9th 2022\n",
      "Wall time: 1.2 ms\n"
     ]
    }
   ],
   "source": [
    "%%time\n",
    "\n",
    "my_str = \"Welcome you all to ta session on 9th 2022\"\n",
    "print(''.join(filter(lambda x:x.lower() not in 'aeiou',my_str)))"
   ]
  },
  {
   "cell_type": "code",
   "execution_count": 6,
   "id": "134a35e3",
   "metadata": {},
   "outputs": [
    {
     "name": "stdout",
     "output_type": "stream",
     "text": [
      "35344\n"
     ]
    }
   ],
   "source": [
    "from functools import reduce\n",
    "ans =reduce(lambda x,y: x +7*y, range(1,101))\n",
    "print(ans)"
   ]
  },
  {
   "cell_type": "code",
   "execution_count": 34,
   "id": "013cfc8e",
   "metadata": {},
   "outputs": [
    {
     "name": "stdout",
     "output_type": "stream",
     "text": [
      "('The', 'was', 'hit', 'by', 'a', 'heavy', 'storm')\n",
      "['city', 'really']\n",
      "(('The', 'was', 'hit', 'by', 'a', 'heavy', 'storm'), ['city', 'really'])\n"
     ]
    }
   ],
   "source": [
    "s1 = 'We are really pleased to meet you in our city'\n",
    "s2 = 'The city was hit by a really heavy storm'\n",
    "\n",
    "ans= tuple(filter(lambda x: x not in s1.split(), s2.split()))\n",
    "anss= list(filter(lambda y: y in s1.split(), s2.split()))\n",
    "print(ans)\n",
    "print(anss)\n",
    "print((ans,anss))"
   ]
  },
  {
   "cell_type": "code",
   "execution_count": 35,
   "id": "c9618aa1",
   "metadata": {},
   "outputs": [
    {
     "name": "stdout",
     "output_type": "stream",
     "text": [
      "['really', 'city']\n",
      "['was', 'pleased', 'storm', 'are', 'The', 'hit', 'in', 'heavy', 'our', 'a', 'to', 'by', 'We', 'you', 'meet']\n",
      "(['really', 'city'], ['was', 'pleased', 'storm', 'are', 'The', 'hit', 'in', 'heavy', 'our', 'a', 'to', 'by', 'We', 'you', 'meet'])\n"
     ]
    }
   ],
   "source": [
    "s1 = 'We are really pleased to meet you in our city'\n",
    "s2 = 'The city was hit by a really heavy storm'\n",
    "\n",
    "s= set(s1.split())\n",
    "ss= set(s2.split())\n",
    "l= list(s.intersection(ss))\n",
    "l1=list(s.symmetric_difference(ss))\n",
    "print(l)\n",
    "print(l1)\n",
    "print((l,l1))"
   ]
  },
  {
   "cell_type": "code",
   "execution_count": 36,
   "id": "da94c7e3",
   "metadata": {},
   "outputs": [
    {
     "data": {
      "text/plain": [
       "'Sworna Vidhya s the best mother of universe'"
      ]
     },
     "execution_count": 36,
     "metadata": {},
     "output_type": "execute_result"
    }
   ],
   "source": [
    "sentence=\"Sworna Vidhya is the best mother of universe\"\n",
    "sentence[:14]+sentence[15:]"
   ]
  },
  {
   "cell_type": "code",
   "execution_count": 41,
   "id": "d871ab77",
   "metadata": {},
   "outputs": [
    {
     "name": "stdout",
     "output_type": "stream",
     "text": [
      "2\n"
     ]
    }
   ],
   "source": [
    "x=['ab','cd']\n",
    "print(len(list(map(list,x))))"
   ]
  },
  {
   "cell_type": "code",
   "execution_count": 42,
   "id": "816a5167",
   "metadata": {},
   "outputs": [
    {
     "data": {
      "text/plain": [
       "(2804, 'Sworna', 2804, 'Sworna')"
      ]
     },
     "execution_count": 42,
     "metadata": {},
     "output_type": "execute_result"
    }
   ],
   "source": [
    "tuple=(2804,'Sworna')\n",
    "tuple*=2\n",
    "tuple"
   ]
  },
  {
   "cell_type": "code",
   "execution_count": 44,
   "id": "eba82787",
   "metadata": {},
   "outputs": [
    {
     "ename": "NameError",
     "evalue": "name 'a' is not defined",
     "output_type": "error",
     "traceback": [
      "\u001b[1;31m---------------------------------------------------------------------------\u001b[0m",
      "\u001b[1;31mNameError\u001b[0m                                 Traceback (most recent call last)",
      "\u001b[1;32m~\\AppData\\Local\\Temp/ipykernel_8048/339534398.py\u001b[0m in \u001b[0;36m<module>\u001b[1;34m\u001b[0m\n\u001b[1;32m----> 1\u001b[1;33m \u001b[0ms\u001b[0m \u001b[1;33m=\u001b[0m \u001b[0ma\u001b[0m \u001b[1;33m+\u001b[0m \u001b[1;34m'['\u001b[0m \u001b[1;33m+\u001b[0m \u001b[0mb\u001b[0m \u001b[1;33m+\u001b[0m \u001b[1;34m':'\u001b[0m \u001b[1;33m+\u001b[0m \u001b[0mc\u001b[0m \u001b[1;33m+\u001b[0m \u001b[1;34m']'\u001b[0m\u001b[1;33m\u001b[0m\u001b[1;33m\u001b[0m\u001b[0m\n\u001b[0m\u001b[0;32m      2\u001b[0m \u001b[0ms\u001b[0m\u001b[1;33m\u001b[0m\u001b[1;33m\u001b[0m\u001b[0m\n",
      "\u001b[1;31mNameError\u001b[0m: name 'a' is not defined"
     ]
    }
   ],
   "source": [
    "s = a + '[' + b + ':' + c + ']'\n",
    "s"
   ]
  },
  {
   "cell_type": "code",
   "execution_count": 49,
   "id": "418cd09e",
   "metadata": {},
   "outputs": [
    {
     "data": {
      "text/plain": [
       "tuple"
      ]
     },
     "execution_count": 49,
     "metadata": {},
     "output_type": "execute_result"
    }
   ],
   "source": [
    "b=(1,)\n",
    "type(b)"
   ]
  },
  {
   "cell_type": "markdown",
   "id": "7396e5f6",
   "metadata": {},
   "source": [
    "#### Create an array of 10 zeros"
   ]
  },
  {
   "cell_type": "code",
   "execution_count": 2,
   "id": "64f9305b",
   "metadata": {},
   "outputs": [
    {
     "data": {
      "text/plain": [
       "array([0, 0, 0, 0, 0, 0, 0, 0, 0, 0])"
      ]
     },
     "execution_count": 2,
     "metadata": {},
     "output_type": "execute_result"
    }
   ],
   "source": [
    "import numpy as np\n",
    "a= np.zeros(10, dtype= int)\n",
    "a"
   ]
  },
  {
   "cell_type": "markdown",
   "id": "82064234",
   "metadata": {},
   "source": [
    "#### Create an array of the integers from 10 to 50"
   ]
  },
  {
   "cell_type": "code",
   "execution_count": 10,
   "id": "66737d9a",
   "metadata": {},
   "outputs": [
    {
     "data": {
      "text/plain": [
       "array([11, 13, 15, 17, 19, 21, 23, 25, 27, 29, 31, 33, 35, 37, 39])"
      ]
     },
     "execution_count": 10,
     "metadata": {},
     "output_type": "execute_result"
    }
   ],
   "source": [
    "a= np.arange(11,41,2)\n",
    "a"
   ]
  },
  {
   "cell_type": "markdown",
   "id": "96fda122",
   "metadata": {},
   "source": [
    "#### Create a 3x3 matrix with values ranging from 0 to 8"
   ]
  },
  {
   "cell_type": "code",
   "execution_count": 22,
   "id": "45c39038",
   "metadata": {},
   "outputs": [
    {
     "name": "stdout",
     "output_type": "stream",
     "text": [
      "[[0 1 2]\n",
      " [3 4 5]\n",
      " [6 7 8]]\n",
      "2\n"
     ]
    }
   ],
   "source": [
    "a= np.arange(9).reshape(3,3)\n",
    "print(a)\n",
    "print(a.ndim)"
   ]
  },
  {
   "cell_type": "markdown",
   "id": "157f46b2",
   "metadata": {},
   "source": [
    "Use NumPy to generate a random number between 0 and 1"
   ]
  },
  {
   "cell_type": "code",
   "execution_count": 50,
   "id": "48cae79a",
   "metadata": {},
   "outputs": [
    {
     "data": {
      "text/plain": [
       "array([1.13704113])"
      ]
     },
     "execution_count": 50,
     "metadata": {},
     "output_type": "execute_result"
    }
   ],
   "source": [
    "a1= np.random.normal(0,1,1)\n",
    "a1"
   ]
  },
  {
   "cell_type": "markdown",
   "id": "873d617f",
   "metadata": {},
   "source": [
    "Create an array of 20 linearly spaced points between 0 and 1:"
   ]
  },
  {
   "cell_type": "code",
   "execution_count": 56,
   "id": "5545995b",
   "metadata": {},
   "outputs": [
    {
     "data": {
      "text/plain": [
       "array([0.        , 0.05263158, 0.10526316, 0.15789474, 0.21052632,\n",
       "       0.26315789, 0.31578947, 0.36842105, 0.42105263, 0.47368421,\n",
       "       0.52631579, 0.57894737, 0.63157895, 0.68421053, 0.73684211,\n",
       "       0.78947368, 0.84210526, 0.89473684, 0.94736842, 1.        ])"
      ]
     },
     "execution_count": 56,
     "metadata": {},
     "output_type": "execute_result"
    }
   ],
   "source": [
    "a= np.linspace(0, 1, 20)\n",
    "a"
   ]
  },
  {
   "cell_type": "markdown",
   "id": "81f67792",
   "metadata": {},
   "source": [
    "array([[12, 13, 14, 15],\n",
    "[17, 18, 19, 20],\n",
    "[22, 23, 24, 25]])\n"
   ]
  },
  {
   "cell_type": "code",
   "execution_count": 3,
   "id": "26e2367b",
   "metadata": {},
   "outputs": [
    {
     "data": {
      "text/plain": [
       "array([[12, 13, 14, 15],\n",
       "       [17, 18, 19, 20],\n",
       "       [22, 23, 24, 25]])"
      ]
     },
     "execution_count": 3,
     "metadata": {},
     "output_type": "execute_result"
    }
   ],
   "source": [
    "newArray = np.arange(12,26) \n",
    "revisedList = [each for index, each in enumerate(newArray) if index % 5 != 4]\n",
    "np.array(revisedList).reshape(3,4)\n"
   ]
  },
  {
   "cell_type": "code",
   "execution_count": null,
   "id": "985ea7b7",
   "metadata": {},
   "outputs": [],
   "source": []
  }
 ],
 "metadata": {
  "kernelspec": {
   "display_name": "Python 3 (ipykernel)",
   "language": "python",
   "name": "python3"
  },
  "language_info": {
   "codemirror_mode": {
    "name": "ipython",
    "version": 3
   },
   "file_extension": ".py",
   "mimetype": "text/x-python",
   "name": "python",
   "nbconvert_exporter": "python",
   "pygments_lexer": "ipython3",
   "version": "3.9.7"
  }
 },
 "nbformat": 4,
 "nbformat_minor": 5
}
