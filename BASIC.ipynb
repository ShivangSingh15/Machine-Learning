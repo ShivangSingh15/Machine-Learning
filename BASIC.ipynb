{
 "cells": [
  {
   "cell_type": "markdown",
   "id": "ee97f320",
   "metadata": {},
   "source": [
    "## hello python"
   ]
  },
  {
   "cell_type": "code",
   "execution_count": 16,
   "id": "d9f212e8",
   "metadata": {},
   "outputs": [
    {
     "data": {
      "text/plain": [
       "20"
      ]
     },
     "execution_count": 16,
     "metadata": {},
     "output_type": "execute_result"
    }
   ],
   "source": [
    "x=5\n",
    "y=15\n",
    "x+y"
   ]
  },
  {
   "cell_type": "code",
   "execution_count": 17,
   "id": "012d0f4b",
   "metadata": {},
   "outputs": [
    {
     "name": "stdout",
     "output_type": "stream",
     "text": [
      "inter a text valueShivang Singh\n",
      "Shivang Singh\n"
     ]
    }
   ],
   "source": [
    "textvalue = input(\"inter a text value\")\n",
    "print(textvalue)"
   ]
  },
  {
   "cell_type": "code",
   "execution_count": 20,
   "id": "979947be",
   "metadata": {},
   "outputs": [
    {
     "name": "stdout",
     "output_type": "stream",
     "text": [
      "10\n"
     ]
    }
   ],
   "source": [
    "num1= 5\n",
    "num2= 5\n",
    "answer= num1 + num2\n",
    "print(answer)"
   ]
  },
  {
   "cell_type": "code",
   "execution_count": 21,
   "id": "ab22c14a",
   "metadata": {},
   "outputs": [
    {
     "name": "stdout",
     "output_type": "stream",
     "text": [
      "5\n",
      "15\n",
      "<class 'str'>\n"
     ]
    }
   ],
   "source": [
    "num1, num2 = input(), input()\n",
    "answer = num1+num2\n",
    "result = \"num 1: {},num2:{}\\nanswer:{}\"\n",
    "print(type(result.format(num1, num2, answer)))"
   ]
  },
  {
   "cell_type": "markdown",
   "id": "be306a0b",
   "metadata": {},
   "source": [
    "### we need to type cast int(input()); it takes string as input;"
   ]
  },
  {
   "cell_type": "code",
   "execution_count": 22,
   "id": "d6b1e301",
   "metadata": {},
   "outputs": [
    {
     "name": "stdout",
     "output_type": "stream",
     "text": [
      "3\n",
      "4\n",
      "num 1: 3,num2:4\n",
      "answer:34\n"
     ]
    }
   ],
   "source": [
    "num1, num2 = input(), input()\n",
    "answer = num1+num2\n",
    "result = \"num 1: {},num2:{}\\nanswer:{}\"\n",
    "print(result.format(num1, num2, answer))"
   ]
  },
  {
   "cell_type": "code",
   "execution_count": 25,
   "id": "4fc4e2fc",
   "metadata": {},
   "outputs": [
    {
     "name": "stdout",
     "output_type": "stream",
     "text": [
      "4\n",
      "5\n"
     ]
    },
    {
     "ename": "TypeError",
     "evalue": "'>' not supported between instances of 'str' and 'int'",
     "output_type": "error",
     "traceback": [
      "\u001b[1;31m---------------------------------------------------------------------------\u001b[0m",
      "\u001b[1;31mTypeError\u001b[0m                                 Traceback (most recent call last)",
      "\u001b[1;32m~\\AppData\\Local\\Temp/ipykernel_328/3148141740.py\u001b[0m in \u001b[0;36m<module>\u001b[1;34m\u001b[0m\n\u001b[0;32m      1\u001b[0m \u001b[0mnum1\u001b[0m\u001b[1;33m,\u001b[0m\u001b[0mnum2\u001b[0m \u001b[1;33m=\u001b[0m \u001b[0minput\u001b[0m\u001b[1;33m(\u001b[0m\u001b[1;33m)\u001b[0m\u001b[1;33m,\u001b[0m \u001b[0minput\u001b[0m\u001b[1;33m(\u001b[0m\u001b[1;33m)\u001b[0m\u001b[1;33m\u001b[0m\u001b[1;33m\u001b[0m\u001b[0m\n\u001b[1;32m----> 2\u001b[1;33m \u001b[1;32mif\u001b[0m \u001b[0mnum1\u001b[0m \u001b[1;33m>\u001b[0m \u001b[1;36m2\u001b[0m\u001b[1;33m:\u001b[0m\u001b[1;33m\u001b[0m\u001b[1;33m\u001b[0m\u001b[0m\n\u001b[0m\u001b[0;32m      3\u001b[0m     \u001b[0mprint\u001b[0m\u001b[1;33m(\u001b[0m\u001b[1;34m\"Five is greater than two!\"\u001b[0m\u001b[1;33m)\u001b[0m\u001b[1;33m\u001b[0m\u001b[1;33m\u001b[0m\u001b[0m\n",
      "\u001b[1;31mTypeError\u001b[0m: '>' not supported between instances of 'str' and 'int'"
     ]
    }
   ],
   "source": [
    "num1,num2 = input(), input()\n",
    "if num1 > 2:\n",
    "    print(\"Five is greater than two!\")"
   ]
  },
  {
   "cell_type": "code",
   "execution_count": 26,
   "id": "4f2f40c8",
   "metadata": {},
   "outputs": [
    {
     "name": "stdout",
     "output_type": "stream",
     "text": [
      "4\n",
      "5\n",
      "Five is greater than two!\n"
     ]
    }
   ],
   "source": [
    "num1,num2 = input(), input()\n",
    "if int(num1) > 2:\n",
    "    print(\"Five is greater than two!\")    "
   ]
  },
  {
   "cell_type": "code",
   "execution_count": null,
   "id": "263f12f2",
   "metadata": {},
   "outputs": [],
   "source": [
    "name, language, curr_semester = \"Lakshit\", \"English\", 4"
   ]
  },
  {
   "cell_type": "code",
   "execution_count": 28,
   "id": "e64ccf6b",
   "metadata": {},
   "outputs": [
    {
     "ename": "NameError",
     "evalue": "name 'curr_semester' is not defined",
     "output_type": "error",
     "traceback": [
      "\u001b[1;31m---------------------------------------------------------------------------\u001b[0m",
      "\u001b[1;31mNameError\u001b[0m                                 Traceback (most recent call last)",
      "\u001b[1;32m~\\AppData\\Local\\Temp/ipykernel_328/129970893.py\u001b[0m in \u001b[0;36m<module>\u001b[1;34m\u001b[0m\n\u001b[1;32m----> 1\u001b[1;33m \u001b[0mprint\u001b[0m\u001b[1;33m(\u001b[0m\u001b[1;34m\"I am {2} learning {0} during my {1} semester.\"\u001b[0m\u001b[1;33m.\u001b[0m\u001b[0mformat\u001b[0m\u001b[1;33m(\u001b[0m\u001b[0mcurr_semester\u001b[0m\u001b[1;33m,\u001b[0m \u001b[0mname\u001b[0m\u001b[1;33m,\u001b[0m \u001b[0mlanguage\u001b[0m\u001b[1;33m)\u001b[0m\u001b[1;33m)\u001b[0m\u001b[1;33m\u001b[0m\u001b[1;33m\u001b[0m\u001b[0m\n\u001b[0m",
      "\u001b[1;31mNameError\u001b[0m: name 'curr_semester' is not defined"
     ]
    }
   ],
   "source": [
    "print(\"I am {2} learning {0} during my {1} semester.\".format(curr_semester, name, language))"
   ]
  },
  {
   "cell_type": "code",
   "execution_count": 29,
   "id": "239b1ef8",
   "metadata": {},
   "outputs": [
    {
     "name": "stdout",
     "output_type": "stream",
     "text": [
      "8\n"
     ]
    }
   ],
   "source": [
    "segments, segment_count = 34,4\n",
    "print(segments//segment_count)"
   ]
  },
  {
   "cell_type": "code",
   "execution_count": 30,
   "id": "59c2c362",
   "metadata": {},
   "outputs": [
    {
     "name": "stdout",
     "output_type": "stream",
     "text": [
      "8.5\n"
     ]
    }
   ],
   "source": [
    "print(segments/segment_count)"
   ]
  },
  {
   "cell_type": "markdown",
   "id": "44f83cca",
   "metadata": {},
   "source": [
    "# Python for ML\n",
    "## \"Practise Session 1\"\n",
    "### Basic Operations In Python\n",
    "###### Coding done by Yours truly \"SHIVANG SINGH\""
   ]
  },
  {
   "cell_type": "markdown",
   "id": "9cfa1830",
   "metadata": {},
   "source": [
    "### for power use **"
   ]
  },
  {
   "cell_type": "code",
   "execution_count": 35,
   "id": "1afea0f9",
   "metadata": {},
   "outputs": [
    {
     "name": "stdout",
     "output_type": "stream",
     "text": [
      "3\n",
      "2\n",
      "2\n",
      "The answer is : 100\n"
     ]
    }
   ],
   "source": [
    "x= int(input())\n",
    "y= int(input())\n",
    "z= int(input())\n",
    "ans= ((x+y)*z)**2\n",
    "print(\"The answer is :\", ans)"
   ]
  },
  {
   "cell_type": "code",
   "execution_count": 37,
   "id": "f2198fa2",
   "metadata": {},
   "outputs": [
    {
     "name": "stdout",
     "output_type": "stream",
     "text": [
      "1\n",
      "2\n",
      "3\n",
      "27\n"
     ]
    }
   ],
   "source": [
    "num1=input();num2=input();num3=input()\n",
    "print(((int(num1)+int(num2)) * int(num3)**2))"
   ]
  },
  {
   "cell_type": "code",
   "execution_count": 45,
   "id": "c82472b7",
   "metadata": {},
   "outputs": [
    {
     "name": "stdout",
     "output_type": "stream",
     "text": [
      "False\n",
      "True\n",
      "False\n",
      "True\n",
      "True\n",
      "False\n",
      "1\n"
     ]
    }
   ],
   "source": [
    "\n",
    "a= 758\n",
    "b= 462\n",
    "print(a==b)\n",
    "print(a!=b)\n",
    "print(a<b)\n",
    "print(a>b)\n",
    "print(a>=b)\n",
    "print(a<=b)\n",
    "print(a//b)"
   ]
  },
  {
   "cell_type": "code",
   "execution_count": 44,
   "id": "57731045",
   "metadata": {},
   "outputs": [
    {
     "name": "stdout",
     "output_type": "stream",
     "text": [
      "2\n",
      "hrs = 48\n",
      "mins = 2880\n",
      "secs = 172800\n"
     ]
    }
   ],
   "source": [
    "day= int(input())\n",
    "hours= 24*day\n",
    "mins= hours*60\n",
    "secs= mins*60\n",
    "print(\"hrs =\",hours)\n",
    "print(\"mins =\",mins)\n",
    "print(\"secs =\",secs)"
   ]
  },
  {
   "cell_type": "code",
   "execution_count": 48,
   "id": "8b791239",
   "metadata": {},
   "outputs": [
    {
     "name": "stdout",
     "output_type": "stream",
     "text": [
      "Enter FirstName :zererf\n",
      "Enter SirName :yash\n",
      "zererf\n",
      "yash\n",
      "Zererf Yash\n"
     ]
    }
   ],
   "source": [
    "fstname= input(\"Enter FirstName :\")\n",
    "srname= input(\"Enter SirName :\")\n",
    "print(fstname.lower())\n",
    "print(srname.lower())\n",
    "name= fstname.title()+\" \"+srname.title()\n",
    "print(name)\n"
   ]
  },
  {
   "cell_type": "code",
   "execution_count": null,
   "id": "9c3b8ade",
   "metadata": {},
   "outputs": [],
   "source": []
  }
 ],
 "metadata": {
  "kernelspec": {
   "display_name": "Python 3 (ipykernel)",
   "language": "python",
   "name": "python3"
  },
  "language_info": {
   "codemirror_mode": {
    "name": "ipython",
    "version": 3
   },
   "file_extension": ".py",
   "mimetype": "text/x-python",
   "name": "python",
   "nbconvert_exporter": "python",
   "pygments_lexer": "ipython3",
   "version": "3.9.7"
  }
 },
 "nbformat": 4,
 "nbformat_minor": 5
}
