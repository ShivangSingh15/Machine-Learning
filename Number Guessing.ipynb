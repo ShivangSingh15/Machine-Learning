{
 "cells": [
  {
   "cell_type": "code",
   "execution_count": 14,
   "id": "d208e7a3",
   "metadata": {},
   "outputs": [],
   "source": [
    "# importing random and math functions\n",
    "\n",
    "import random\n",
    "import math"
   ]
  },
  {
   "cell_type": "code",
   "execution_count": 15,
   "id": "f6a25862",
   "metadata": {},
   "outputs": [
    {
     "name": "stdout",
     "output_type": "stream",
     "text": [
      "Enter Lower bound:- 5\n",
      "Enter Upper bound:- 16\n"
     ]
    }
   ],
   "source": [
    "# Taking Inputs\n",
    "\n",
    "# lower bound\n",
    "lower = int(input(\"Enter Lower bound:- \"))\n",
    " \n",
    "# upper bound\n",
    "upper = int(input(\"Enter Upper bound:- \"))"
   ]
  },
  {
   "cell_type": "code",
   "execution_count": 16,
   "id": "ece1e17e",
   "metadata": {},
   "outputs": [
    {
     "name": "stdout",
     "output_type": "stream",
     "text": [
      "\n",
      "\tYou've only  4  chances to guess the integer!\n",
      "\n",
      "Guess a number:- 9\n",
      "You Guessed too high!\n",
      "Guess a number:- 8\n",
      "Congratulations you did it in  2  try\n"
     ]
    }
   ],
   "source": [
    "# generating random number between the lower and upper bounds using random.randint()\n",
    "\n",
    "x = random.randint(lower, upper)\n",
    "no_of_guess = round(math.log(upper - lower + 1, 2))\n",
    "print(\"\\n\\tYou've only \",no_of_guess,\" chances to guess the integer!\\n\")\n",
    " \n",
    "# Initializing the number of guesses.\n",
    "count = 0\n",
    "\n",
    "# for calculation of minimum number of guesses depends upon range\n",
    "while count < no_of_guess:\n",
    "    count += 1\n",
    " \n",
    "    # taking guessing number as input\n",
    "    guess = int(input(\"Guess a number:- \"))\n",
    " \n",
    "    # Condition testing\n",
    "    if x == guess:\n",
    "        print(\"Congratulations you did it in \",count, \" try\")\n",
    "        # Once guessed, loop will break\n",
    "        break\n",
    "    elif x > guess:\n",
    "        print(\"You guessed too small!\")\n",
    "    elif x < guess:\n",
    "        print(\"You Guessed too high!\")\n",
    "        \n",
    "# If Guessing is more than required guesses, shows this output.\n",
    "if count >= no_of_guess:\n",
    "    print(\"\\nThe number is %d\" % x)\n",
    "    print(\"\\tBetter Luck Next time!\")\n",
    " "
   ]
  },
  {
   "cell_type": "code",
   "execution_count": null,
   "id": "31033eb5",
   "metadata": {},
   "outputs": [],
   "source": []
  }
 ],
 "metadata": {
  "kernelspec": {
   "display_name": "Python 3 (ipykernel)",
   "language": "python",
   "name": "python3"
  },
  "language_info": {
   "codemirror_mode": {
    "name": "ipython",
    "version": 3
   },
   "file_extension": ".py",
   "mimetype": "text/x-python",
   "name": "python",
   "nbconvert_exporter": "python",
   "pygments_lexer": "ipython3",
   "version": "3.9.7"
  }
 },
 "nbformat": 4,
 "nbformat_minor": 5
}
