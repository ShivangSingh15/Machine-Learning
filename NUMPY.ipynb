{
 "cells": [
  {
   "cell_type": "code",
   "execution_count": 1,
   "id": "ebe8ba4e",
   "metadata": {},
   "outputs": [
    {
     "data": {
      "text/plain": [
       "array([1. , 2. , 3.5, 0.2, 1. ])"
      ]
     },
     "execution_count": 1,
     "metadata": {},
     "output_type": "execute_result"
    }
   ],
   "source": [
    "import numpy as np\n",
    "\n",
    "n1= np.array( [1.0, 2, 3.5, 0.2, True] )\n",
    "n1"
   ]
  },
  {
   "cell_type": "code",
   "execution_count": 4,
   "id": "0121eaff",
   "metadata": {},
   "outputs": [
    {
     "name": "stdout",
     "output_type": "stream",
     "text": [
      "[2, 5, 7, 4, 3, 1]\n"
     ]
    }
   ],
   "source": [
    "array_1 = [1, 2, 3, 5, 4, 6, 7, 8, 5, 3, 2]\n",
    "print(array_1[ : : -2])\n",
    " "
   ]
  },
  {
   "cell_type": "code",
   "execution_count": 5,
   "id": "5bf6682a",
   "metadata": {},
   "outputs": [
    {
     "name": "stdout",
     "output_type": "stream",
     "text": [
      "3\n"
     ]
    },
    {
     "data": {
      "text/plain": [
       "array([[1, 0]])"
      ]
     },
     "execution_count": 5,
     "metadata": {},
     "output_type": "execute_result"
    }
   ],
   "source": [
    "n = int(input())\n",
    "ar= ([0,1])\n",
    "arr= ([1,0])\n",
    "np.tile(ar, (n//2,n//2))\n",
    "np.tile(arr, (n//2,n//2))"
   ]
  },
  {
   "cell_type": "markdown",
   "id": "4b461977",
   "metadata": {},
   "source": [
    " # CheckBoard Matrix problem\n"
   ]
  },
  {
   "cell_type": "code",
   "execution_count": 6,
   "id": "b5061421",
   "metadata": {},
   "outputs": [
    {
     "name": "stdout",
     "output_type": "stream",
     "text": [
      "5\n",
      "[[0 1 0 1]\n",
      " [1 0 1 0]\n",
      " [0 1 0 1]\n",
      " [1 0 1 0]]\n"
     ]
    }
   ],
   "source": [
    "n= int(input())\n",
    "\n",
    "import numpy as np\n",
    "\n",
    "# Create the smallest unit of a checkerboard matrix\n",
    "x = np.array([[0, 1], [1, 0]])\n",
    "\n",
    "# Create a checkerboard matrix of size n*n using the tile() function. We use n//2 \n",
    "# since the smallest unit of a checkerboard matrix is already of size 2*2. So, for \n",
    "# creating a larger matrix, say, of size 8, we need to replicate it using the tile()\n",
    "# function 4 times as it will then give a matrix of size 8*8.\n",
    "check = np.tile(x, (n//2, n//2))\n",
    "\n",
    "# Print the created matrix\n",
    "print(check)"
   ]
  },
  {
   "cell_type": "code",
   "execution_count": 7,
   "id": "0e9fb9f3",
   "metadata": {},
   "outputs": [
    {
     "data": {
      "text/plain": [
       "array([[1, 5, 3, 7, 4, 9]])"
      ]
     },
     "execution_count": 7,
     "metadata": {},
     "output_type": "execute_result"
    }
   ],
   "source": [
    "p=[[1, 5],\n",
    " [3, 7],\n",
    " [4, 9]]\n",
    "np.reshape(p, (1, -1))"
   ]
  },
  {
   "cell_type": "code",
   "execution_count": 9,
   "id": "91ef77e9",
   "metadata": {},
   "outputs": [
    {
     "data": {
      "text/plain": [
       "array([0, 1, 2, 3, 6, 7, 8, 9])"
      ]
     },
     "execution_count": 9,
     "metadata": {},
     "output_type": "execute_result"
    }
   ],
   "source": [
    "a1= np.array([0,1,2,3])\n",
    "a2= np.array([6,7,8,9])\n",
    "print(np.vstack((a1,a2)))\n",
    "np.hstack((a1,a2))"
   ]
  },
  {
   "cell_type": "code",
   "execution_count": 10,
   "id": "5d8342ee",
   "metadata": {},
   "outputs": [
    {
     "name": "stdout",
     "output_type": "stream",
     "text": [
      "[[[1 2 3 4 5]]]\n"
     ]
    }
   ],
   "source": [
    "a = np.array([1, 2, 3,4,5], ndmin = 3)\n",
    "print(a)"
   ]
  },
  {
   "cell_type": "code",
   "execution_count": 10,
   "id": "7a0fd8ba",
   "metadata": {},
   "outputs": [
    {
     "name": "stdout",
     "output_type": "stream",
     "text": [
      "[12 14 16]\n",
      "[14 13 12]\n",
      "[14 15 16 17]\n",
      "[12 13 14 15 16]\n"
     ]
    }
   ],
   "source": [
    "import numpy as np\n",
    "arr = np.array([10, 11, 12, 13, 14, 15, 16, 17, 18])\n",
    "print(arr[2:-1:2])\n",
    "print(arr[-5:1:-1])\n",
    "print(arr[-5:-1])\n",
    "print(arr[-7:-2])"
   ]
  },
  {
   "cell_type": "code",
   "execution_count": 14,
   "id": "d9b5ffdb",
   "metadata": {},
   "outputs": [
    {
     "data": {
      "text/plain": [
       "array([[12, 13, 14],\n",
       "       [17, 18, 19]])"
      ]
     },
     "execution_count": 14,
     "metadata": {},
     "output_type": "execute_result"
    }
   ],
   "source": [
    "arr = np.array([[10, 11, 12, 13, 14], [15,16,17,18,19]])\n",
    "arr[:,2:]\n"
   ]
  },
  {
   "cell_type": "code",
   "execution_count": 23,
   "id": "23634a54",
   "metadata": {},
   "outputs": [
    {
     "name": "stdout",
     "output_type": "stream",
     "text": [
      "[[[11 14]\n",
      "  [12 15]\n",
      "  [13 16]]]\n"
     ]
    }
   ],
   "source": [
    "a1 = np.array([11,12,13])\n",
    "\n",
    "a2 = np.array([14,15,16])\n",
    "a= np.dstack((a1,a2))\n",
    "print(a)"
   ]
  },
  {
   "cell_type": "code",
   "execution_count": 25,
   "id": "122faf3e",
   "metadata": {},
   "outputs": [
    {
     "name": "stdout",
     "output_type": "stream",
     "text": [
      "100\n"
     ]
    }
   ],
   "source": [
    "print(np.array(100))"
   ]
  },
  {
   "cell_type": "code",
   "execution_count": 1,
   "id": "914b5011",
   "metadata": {},
   "outputs": [
    {
     "name": "stdout",
     "output_type": "stream",
     "text": [
      "10\n",
      "13\n"
     ]
    }
   ],
   "source": [
    "import numpy as np\n",
    "myArray = np.array([10, 11, 12, 13, 14])\n",
    "print(myArray[0])\n",
    "print(myArray[3])"
   ]
  },
  {
   "cell_type": "code",
   "execution_count": 2,
   "id": "eae58633",
   "metadata": {},
   "outputs": [
    {
     "name": "stdout",
     "output_type": "stream",
     "text": [
      "24\n",
      "132\n"
     ]
    }
   ],
   "source": [
    "myArray = np.array([10, 11, 12, 13, 14])\n",
    "print(myArray[1] + myArray[3])\n",
    "print(myArray[1] * myArray[2])"
   ]
  },
  {
   "cell_type": "markdown",
   "id": "924bc97e",
   "metadata": {},
   "source": [
    "Write a code that creates a three-dimensional array for numbers from 1-30."
   ]
  },
  {
   "cell_type": "code",
   "execution_count": 20,
   "id": "6a6b5d7f",
   "metadata": {},
   "outputs": [
    {
     "data": {
      "text/plain": [
       "array([[[ 1,  2,  3,  4,  5],\n",
       "        [ 6,  7,  8,  9, 10],\n",
       "        [11, 12, 13, 14, 15]],\n",
       "\n",
       "       [[16, 17, 18, 19, 20],\n",
       "        [21, 22, 23, 24, 25],\n",
       "        [26, 27, 28, 29, 30]]])"
      ]
     },
     "execution_count": 20,
     "metadata": {},
     "output_type": "execute_result"
    }
   ],
   "source": [
    "np.arange(1,31).reshape(2,3,5)"
   ]
  },
  {
   "cell_type": "code",
   "execution_count": 12,
   "id": "7632ddae",
   "metadata": {},
   "outputs": [
    {
     "data": {
      "text/plain": [
       "array([[[ 1,  2,  3,  4,  5,  6,  7,  8,  9, 10, 11, 12, 13, 14, 15, 16,\n",
       "         17, 18, 19, 20, 21, 22, 23, 24, 25, 26, 27, 28, 29, 30]]])"
      ]
     },
     "execution_count": 12,
     "metadata": {},
     "output_type": "execute_result"
    }
   ],
   "source": [
    "np.dstack(np.arange(1,31))"
   ]
  },
  {
   "cell_type": "code",
   "execution_count": 21,
   "id": "c681ac6f",
   "metadata": {},
   "outputs": [
    {
     "name": "stdout",
     "output_type": "stream",
     "text": [
      "[0 1 2 3 4 5]\n"
     ]
    }
   ],
   "source": [
    "myArr = np.array([0, 1, 2, 3, 4, 5])\n",
    "print(myArr)"
   ]
  },
  {
   "cell_type": "code",
   "execution_count": 22,
   "id": "8882fb29",
   "metadata": {},
   "outputs": [
    {
     "data": {
      "text/plain": [
       "array([[0, 1, 2, 3, 4, 5]])"
      ]
     },
     "execution_count": 22,
     "metadata": {},
     "output_type": "execute_result"
    }
   ],
   "source": [
    "np.array([0, 1, 2, 3, 4, 5],ndmin=2)"
   ]
  },
  {
   "cell_type": "markdown",
   "id": "ee5b2619",
   "metadata": {},
   "source": [
    "Write the code to create 2d array (a)\n",
    "with [10,11,12,13,14], [15,16,17,18,19] and output should print the 1st row 3rd column element and 2nd row 2nd column element."
   ]
  },
  {
   "cell_type": "code",
   "execution_count": 29,
   "id": "4c6102ba",
   "metadata": {},
   "outputs": [
    {
     "name": "stdout",
     "output_type": "stream",
     "text": [
      "12 16\n"
     ]
    }
   ],
   "source": [
    "a= np.array([[10,11,12,13,14],[15,16,17,18,19]])\n",
    "print(a[0,2] , a[1,1])"
   ]
  },
  {
   "cell_type": "markdown",
   "id": "5d249c73",
   "metadata": {},
   "source": [
    " ## FromFunction   \n",
    " fromfunction(function, shape, dtype)"
   ]
  },
  {
   "cell_type": "code",
   "execution_count": 2,
   "id": "af5d2226",
   "metadata": {},
   "outputs": [
    {
     "data": {
      "text/plain": [
       "array([[0, 0],\n",
       "       [1, 1]])"
      ]
     },
     "execution_count": 2,
     "metadata": {},
     "output_type": "execute_result"
    }
   ],
   "source": [
    "import numpy as np\n",
    "a1= np.fromfunction(lambda i,j : i, (2,2), dtype= int)\n",
    "a1"
   ]
  },
  {
   "cell_type": "code",
   "execution_count": 3,
   "id": "ae217d14",
   "metadata": {},
   "outputs": [
    {
     "data": {
      "text/plain": [
       "array([[0, 1],\n",
       "       [0, 1]])"
      ]
     },
     "execution_count": 3,
     "metadata": {},
     "output_type": "execute_result"
    }
   ],
   "source": [
    "a2= np.fromfunction(lambda i,j : j, (2,2), dtype= int)\n",
    "a2"
   ]
  },
  {
   "cell_type": "code",
   "execution_count": 4,
   "id": "1c437546",
   "metadata": {},
   "outputs": [
    {
     "data": {
      "text/plain": [
       "array([[ True, False],\n",
       "       [False,  True]])"
      ]
     },
     "execution_count": 4,
     "metadata": {},
     "output_type": "execute_result"
    }
   ],
   "source": [
    "a3= np.fromfunction(lambda i,j : i==j, (2,2), dtype= int)\n",
    "a3"
   ]
  },
  {
   "cell_type": "code",
   "execution_count": 5,
   "id": "30c03d3f",
   "metadata": {},
   "outputs": [
    {
     "data": {
      "text/plain": [
       "dtype('<U32')"
      ]
     },
     "execution_count": 5,
     "metadata": {},
     "output_type": "execute_result"
    }
   ],
   "source": [
    "np.array([\"string\",\"yash\", 4, 4.6]).dtype"
   ]
  },
  {
   "cell_type": "code",
   "execution_count": 6,
   "id": "c243015a",
   "metadata": {},
   "outputs": [
    {
     "data": {
      "text/plain": [
       "dtype('float64')"
      ]
     },
     "execution_count": 6,
     "metadata": {},
     "output_type": "execute_result"
    }
   ],
   "source": [
    "np.array([2.4, 3.5]).dtype"
   ]
  },
  {
   "cell_type": "markdown",
   "id": "6739a181",
   "metadata": {},
   "source": [
    "Write code to create array through the Conversion python structures with values as \"10, 20, 30, 40, 50, 60\" with following conditions:\n",
    "1. Create array from:\n",
    "a. list\n",
    "b. tuple(the length of tuple must be 2)\n",
    "c. set\n",
    "2. Single print statement to show output with format as \"Elements, type of the array, dimensionality of the array, shape of the array\" in a user readable way."
   ]
  },
  {
   "cell_type": "code",
   "execution_count": 14,
   "id": "099d912e",
   "metadata": {},
   "outputs": [
    {
     "name": "stdout",
     "output_type": "stream",
     "text": [
      "[10 20 30 40 50 60] \n",
      " 1 \n",
      " (6,) \n",
      " <class 'numpy.ndarray'>\n"
     ]
    }
   ],
   "source": [
    "import numpy as np\n",
    "l= [10,20,30,40,50,60]\n",
    "a= np.array(l)\n",
    "print(f'{a} \\n {a.ndim} \\n {a.shape} \\n {type(a)}')"
   ]
  },
  {
   "cell_type": "code",
   "execution_count": 16,
   "id": "466187a7",
   "metadata": {},
   "outputs": [
    {
     "data": {
      "text/plain": [
       "array([4.        , 4.22222222, 4.44444444, 4.66666667, 4.88888889,\n",
       "       5.11111111, 5.33333333, 5.55555556, 5.77777778, 6.        ])"
      ]
     },
     "execution_count": 16,
     "metadata": {},
     "output_type": "execute_result"
    }
   ],
   "source": [
    "a1= np.linspace(4,6,10)\n",
    "a1"
   ]
  },
  {
   "cell_type": "code",
   "execution_count": 19,
   "id": "b5860d05",
   "metadata": {},
   "outputs": [
    {
     "name": "stdout",
     "output_type": "stream",
     "text": [
      "[False  True  True  True]\n"
     ]
    }
   ],
   "source": [
    "myArr = np.array([0, 1, 2, 3])\n",
    "arr = myArr.astype(bool)\n",
    "print(arr)"
   ]
  },
  {
   "cell_type": "markdown",
   "id": "5f45a75e",
   "metadata": {},
   "source": [
    "Write the code that creates an array which contains 0, 1, 2, 3, 4, 5, 6, 7, 8, 9, 10, 11 . Create an 1-D array and then convert it to display as 3 rows of elements and 4 columns of elements.\n"
   ]
  },
  {
   "cell_type": "code",
   "execution_count": 26,
   "id": "e697b481",
   "metadata": {},
   "outputs": [
    {
     "name": "stdout",
     "output_type": "stream",
     "text": [
      "[ 0  1  2  3  4  5  6  7  8  9 10 11]\n",
      "[[ 0  1  2  3]\n",
      " [ 4  5  6  7]\n",
      " [ 8  9 10 11]]\n"
     ]
    }
   ],
   "source": [
    "a= np.arange(12)\n",
    "print(a)\n",
    "print(a.reshape(3,4))"
   ]
  },
  {
   "cell_type": "markdown",
   "id": "4c99d5ec",
   "metadata": {},
   "source": [
    "## EDA Projecct  - 10/8/2022"
   ]
  },
  {
   "cell_type": "code",
   "execution_count": 2,
   "id": "c792a08e",
   "metadata": {},
   "outputs": [
    {
     "data": {
      "text/plain": [
       "[[1, 2, 3], [4, 5, 6], [7, 8, 9]]"
      ]
     },
     "execution_count": 2,
     "metadata": {},
     "output_type": "execute_result"
    }
   ],
   "source": [
    "my_matrix = [[1,2,3],[4,5,6],[7,8,9]]\n",
    "my_matrix"
   ]
  },
  {
   "cell_type": "code",
   "execution_count": 3,
   "id": "6a893ca0",
   "metadata": {},
   "outputs": [
    {
     "data": {
      "text/plain": [
       "array([[1, 2, 3],\n",
       "       [4, 5, 6],\n",
       "       [7, 8, 9]])"
      ]
     },
     "execution_count": 3,
     "metadata": {},
     "output_type": "execute_result"
    }
   ],
   "source": [
    "ar = np.array(my_matrix)\n",
    "ar"
   ]
  },
  {
   "cell_type": "code",
   "execution_count": 9,
   "id": "f9935267",
   "metadata": {},
   "outputs": [
    {
     "name": "stdout",
     "output_type": "stream",
     "text": [
      "[1 2 3 4 5 6 7 8 9]\n",
      "[2 4 6 8]\n"
     ]
    }
   ],
   "source": [
    "print(np.arange(1,10))\n",
    "print(np.arange(2,10,2))"
   ]
  },
  {
   "cell_type": "code",
   "execution_count": 19,
   "id": "2cb9b888",
   "metadata": {},
   "outputs": [
    {
     "name": "stdout",
     "output_type": "stream",
     "text": [
      "[[0 0 0]\n",
      " [0 0 0]\n",
      " [0 0 0]]\n",
      "[[1 1 1]\n",
      " [1 1 1]\n",
      " [1 1 1]]\n"
     ]
    }
   ],
   "source": [
    "print(np.zeros([3,3], dtype = int))\n",
    "print(np.ones([3,3], dtype = int))"
   ]
  },
  {
   "cell_type": "code",
   "execution_count": 23,
   "id": "e1151468",
   "metadata": {},
   "outputs": [
    {
     "name": "stdout",
     "output_type": "stream",
     "text": [
      "[ 0.  5. 10.]\n",
      "[ 0.          1.11111111  2.22222222  3.33333333  4.44444444  5.55555556\n",
      "  6.66666667  7.77777778  8.88888889 10.        ]\n"
     ]
    }
   ],
   "source": [
    "print(np.linspace(0,10,3))\n",
    "print(np.linspace(0,10,10))"
   ]
  },
  {
   "cell_type": "code",
   "execution_count": 34,
   "id": "e3f80b10",
   "metadata": {},
   "outputs": [
    {
     "name": "stdout",
     "output_type": "stream",
     "text": [
      "[[1. 0. 0.]\n",
      " [0. 1. 0.]\n",
      " [0. 0. 1.]]\n",
      "[[0.56970049 0.29955756 0.89128627]\n",
      " [0.91021683 0.16532434 0.58937656]\n",
      " [0.59123917 0.84007819 0.72910588]]\n",
      "[11  9]\n"
     ]
    }
   ],
   "source": [
    "print(np.eye(3))\n"
   ]
  },
  {
   "cell_type": "code",
   "execution_count": 36,
   "id": "0efbc92f",
   "metadata": {},
   "outputs": [
    {
     "name": "stdout",
     "output_type": "stream",
     "text": [
      "[[0.02797687 0.91991828 0.5047907 ]\n",
      " [0.85504062 0.87701338 0.0765977 ]\n",
      " [0.09583795 0.57909485 0.07136292]]\n",
      "[16  0 17 12  2  0  7 13  7  3]\n"
     ]
    }
   ],
   "source": [
    "print(np.random.rand(3,3))\n",
    "print(np.random.randint(0,20,10))"
   ]
  },
  {
   "cell_type": "code",
   "execution_count": 38,
   "id": "ddecff78",
   "metadata": {},
   "outputs": [
    {
     "data": {
      "text/plain": [
       "array([[0, 1, 2],\n",
       "       [3, 4, 5],\n",
       "       [6, 7, 8]])"
      ]
     },
     "execution_count": 38,
     "metadata": {},
     "output_type": "execute_result"
    }
   ],
   "source": [
    "ar = np.arange(0,9)\n",
    "np.reshape(ar,[3,3]) # ar.reshape(3,3)"
   ]
  },
  {
   "cell_type": "code",
   "execution_count": 40,
   "id": "1aade9d5",
   "metadata": {},
   "outputs": [
    {
     "name": "stdout",
     "output_type": "stream",
     "text": [
      "[[ 0  2  4  6  8 10 12 14 16 18 20 22 24 26 28 30 32 34 36 38 40 42 44 46\n",
      "  48]]\n",
      "[[ 0]\n",
      " [ 2]\n",
      " [ 4]\n",
      " [ 6]\n",
      " [ 8]\n",
      " [10]\n",
      " [12]\n",
      " [14]\n",
      " [16]\n",
      " [18]\n",
      " [20]\n",
      " [22]\n",
      " [24]\n",
      " [26]\n",
      " [28]\n",
      " [30]\n",
      " [32]\n",
      " [34]\n",
      " [36]\n",
      " [38]\n",
      " [40]\n",
      " [42]\n",
      " [44]\n",
      " [46]\n",
      " [48]]\n"
     ]
    }
   ],
   "source": [
    "arr = np.arange(0,50,2)\n",
    "print(arr.reshape(1,25))\n",
    "print(arr.reshape(25,1))"
   ]
  },
  {
   "cell_type": "code",
   "execution_count": null,
   "id": "094f50e9",
   "metadata": {},
   "outputs": [],
   "source": []
  }
 ],
 "metadata": {
  "kernelspec": {
   "display_name": "Python 3 (ipykernel)",
   "language": "python",
   "name": "python3"
  },
  "language_info": {
   "codemirror_mode": {
    "name": "ipython",
    "version": 3
   },
   "file_extension": ".py",
   "mimetype": "text/x-python",
   "name": "python",
   "nbconvert_exporter": "python",
   "pygments_lexer": "ipython3",
   "version": "3.9.7"
  }
 },
 "nbformat": 4,
 "nbformat_minor": 5
}
